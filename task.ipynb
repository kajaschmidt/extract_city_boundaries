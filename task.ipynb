{
 "cells": [
  {
   "cell_type": "code",
   "execution_count": 1,
   "metadata": {},
   "outputs": [],
   "source": [
    "# Imports\n",
    "import pandas as pd\n",
    "from functions import generate_GeoJSON, process_citiesCSV"
   ]
  },
  {
   "cell_type": "code",
   "execution_count": 2,
   "metadata": {},
   "outputs": [],
   "source": [
    "# Note: all data/database files should be saved under \"./data/\""
   ]
  },
  {
   "cell_type": "code",
   "execution_count": 3,
   "metadata": {},
   "outputs": [],
   "source": [
    "# Load input material\n",
    "citiesDF = pd.read_csv(\"./data/cities.csv\", encoding=\"utf-8\", sep=\";\")\n",
    "countries = [\"FR\",\"ES\",\"SE\",\"DE\",\"FI\",\"NO\",\"PL\",\"IT\",\"GB\",\"RO\",\"BY\",\"GR\",\"BG\",\"IS\",\"PT\",\"CZ\",\"DK\",\"HU\",\"RS\",\"AT\",\"IE\",\"LT\",\"LV\",\"HR\",\"BA\",\"SK\",\"EE\",\"NL\",\"CH\",\"MD\",\"BE\",\"AL\",\"MK\",\"SI\",\"ME\",\"CY\",\"LU\",\"FO\",\"AD\",\"MT\",\"LI\",\"GG\",\"SM\",\"GI\",\"MC\",\"VA\",\"CA\",\"US\"]"
   ]
  },
  {
   "cell_type": "code",
   "execution_count": 4,
   "metadata": {
    "scrolled": true
   },
   "outputs": [
    {
     "name": "stdout",
     "output_type": "stream",
     "text": [
      "----------------------------------------------------------------\n",
      "START: PROCESSING cities.csv\n",
      "[1/5] 59 empty rows (from 13199) found and dropped from DF\n",
      "[2/5] Fixed Macintosh encoding errors\n",
      "[3/5] Filled missing iso2 entries\n",
      "[4/5] Matched DF to demoDF (added iso3 column, renamed and dropped columns)\n",
      "[5/5] Converted DF to geoDF using lon/lat\n",
      "END: PROCESSED cities.csv\n",
      "----------------------------------------------------------------\n"
     ]
    },
    {
     "name": "stderr",
     "output_type": "stream",
     "text": [
      "/notebooks/functions.py:27: SettingWithCopyWarning: \n",
      "A value is trying to be set on a copy of a slice from a DataFrame.\n",
      "Try using .loc[row_indexer,col_indexer] = value instead\n",
      "\n",
      "See the caveats in the documentation: http://pandas.pydata.org/pandas-docs/stable/indexing.html#indexing-view-versus-copy\n",
      "  geoDF['coordinates'] = list(zip(geoDF.lon, geoDF.lat))                              # Convert DF to geoDF by setting lat/lon as geometry attributes\n",
      "/notebooks/functions.py:28: SettingWithCopyWarning: \n",
      "A value is trying to be set on a copy of a slice from a DataFrame.\n",
      "Try using .loc[row_indexer,col_indexer] = value instead\n",
      "\n",
      "See the caveats in the documentation: http://pandas.pydata.org/pandas-docs/stable/indexing.html#indexing-view-versus-copy\n",
      "  geoDF['coordinates'] = geoDF.coordinates.apply(Point)\n"
     ]
    }
   ],
   "source": [
    "geoDF = process_citiesCSV(citiesDF, countries)"
   ]
  },
  {
   "cell_type": "code",
   "execution_count": 7,
   "metadata": {},
   "outputs": [
    {
     "name": "stdout",
     "output_type": "stream",
     "text": [
      "----------------------------------------------------------------\n",
      "START: GENERATE GEOJSON FOR US\n",
      "[1/5] Extracted polygonDF for US\n",
      "[2/5] Switched projection from  epsg:4269 to epsg:4326 (WGS84)\n",
      "[3/5] Generated pointsDF for US\n",
      "[4/5] 502 entries from 4848 lost in spatial join (10.354785478547855%)\n",
      "[5/5] US_poly.geojson and US_multi.geojson were generated.\n",
      "        \n",
      "Run \"geojson-merge US_poly.geojson US_multi.geojson > US.geojson\" in terminal to generate US.geojson.\n",
      "        \n",
      "(You may have to run \"npm install @mapbox/geojson-normalize\" first.)\n",
      "END: GEOJSON FOR US GENERATED\n",
      "----------------------------------------------------------------\n"
     ]
    }
   ],
   "source": [
    "# Generate .geojson file for a country\n",
    "# See database references in \"DB.json\"\n",
    "country = \"US\" # Replace with any country from \"countries\" list\n",
    "generate_GeoJSON(country, geoDF)"
   ]
  },
  {
   "cell_type": "code",
   "execution_count": null,
   "metadata": {},
   "outputs": [],
   "source": []
  }
 ],
 "metadata": {
  "kernelspec": {
   "display_name": "Python 3",
   "language": "python",
   "name": "python3"
  },
  "language_info": {
   "codemirror_mode": {
    "name": "ipython",
    "version": 3
   },
   "file_extension": ".py",
   "mimetype": "text/x-python",
   "name": "python",
   "nbconvert_exporter": "python",
   "pygments_lexer": "ipython3",
   "version": "3.7.3"
  }
 },
 "nbformat": 4,
 "nbformat_minor": 2
}
